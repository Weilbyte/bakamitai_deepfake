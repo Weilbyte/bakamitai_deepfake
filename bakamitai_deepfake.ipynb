{
  "nbformat": 4,
  "nbformat_minor": 0,
  "metadata": {
    "colab": {
      "name": "bakamitai_deepfake.ipynb",
      "provenance": [],
      "collapsed_sections": []
    },
    "kernelspec": {
      "name": "python3",
      "display_name": "Python 3"
    },
    "accelerator": "GPU"
  },
  "cells": [
    {
      "cell_type": "markdown",
      "metadata": {
        "id": "_NVyx6Cy1X7E",
        "colab_type": "text"
      },
      "source": [
        "**1.** Download required files (first-order-model, template, audio and the actual model files)."
      ]
    },
    {
      "cell_type": "code",
      "metadata": {
        "id": "-yh8ALU3o2lW",
        "colab_type": "code",
        "colab": {}
      },
      "source": [
        "!cd /content/ && git clone --quiet https://github.com/AliaksandrSiarohin/first-order-model & git clone --quiet https://github.com/Weilbyte/bakamitai_deepfake\n",
        "!cd /content/bakamitai_deepfake/ && wget -nc https://github.com/Weilbyte/bakamitai_deepfake/releases/download/model/vox-cpk.pth.tar -q --show-progress\n",
        "!cd /content/bakamitai_deepfake/ && wget -nc https://github.com/Weilbyte/bakamitai_deepfake/releases/download/model/vox-adv-cpk.pth.tar -q --show-progress"
      ],
      "execution_count": null,
      "outputs": []
    },
    {
      "cell_type": "markdown",
      "metadata": {
        "id": "k6-sPYc84A2e",
        "colab_type": "text"
      },
      "source": [
        "**2.** Load the model."
      ]
    },
    {
      "cell_type": "code",
      "metadata": {
        "id": "YXYeD4tr4I8l",
        "colab_type": "code",
        "colab": {}
      },
      "source": [
        "from os import chdir\n",
        "chdir('/content/first-order-model')\n",
        "from demo import load_checkpoints\n",
        "generator, kp_detector = load_checkpoints(config_path='/content/first-order-model/config/vox-256.yaml', \n",
        "                            checkpoint_path='/content/bakamitai_deepfake/vox-cpk.pth.tar')"
      ],
      "execution_count": null,
      "outputs": []
    },
    {
      "cell_type": "markdown",
      "metadata": {
        "id": "6pDe_nrT6phX",
        "colab_type": "text"
      },
      "source": [
        "**3.** Upload source image."
      ]
    },
    {
      "cell_type": "code",
      "metadata": {
        "id": "f8DCsRbX6soR",
        "colab_type": "code",
        "colab": {}
      },
      "source": [
        "from os import chdir\n",
        "chdir('/content/')\n",
        "\n",
        "# Clean-up ;)\n",
        "from os import remove\n",
        "try:\n",
        "  remove(f'/content/{uploaded_name}')\n",
        "  remove(f'/content/{uploaded_name}.mp4')\n",
        "except:\n",
        "  pass\n",
        "\n",
        "# Upload \n",
        "from os import rename\n",
        "from google.colab import files\n",
        "uploaded = files.upload()\n",
        "uploaded_name = list(uploaded.keys())[0]\n",
        "\n",
        "# Read \n",
        "from imageio import imread, mimread\n",
        "template = mimread('/content/bakamitai_deepfake/template.mp4')\n",
        "uploaded_image = imread(f'/content/{uploaded_name}')\n",
        "\n",
        "# Resize\n",
        "from skimage.transform import resize\n",
        "template = [resize(frame, (256, 256))[..., :3] for frame in template]\n",
        "uploaded_image = resize(uploaded_image, (256, 256))[..., :3]\n",
        "\n",
        "\n",
        "# Deepfake\n",
        "chdir('first-order-model')\n",
        "from imageio import mimsave\n",
        "from demo import make_animation\n",
        "from skimage import img_as_ubyte\n",
        "import warnings\n",
        "warnings.filterwarnings(\"ignore\")\n",
        "\n",
        "predictions = make_animation(uploaded_image, template, generator, kp_detector, relative=True)\n",
        "mimsave(f'/content/{uploaded_name}.mp4', [img_as_ubyte(frame) for frame in predictions])\n",
        "\n",
        "# Audio\n",
        "from moviepy.editor import VideoFileClip, vfx, AudioFileClip, CompositeAudioClip\n",
        "video = VideoFileClip(f'/content/{uploaded_name}.mp4')\n",
        "audio = AudioFileClip('/content/bakamitai_deepfake/audio.mp3')\n",
        "final_video = video.fx(vfx.speedx, 3)\n",
        "final_video = final_video.set_audio(audio)\n",
        "remove(f'/content/{uploaded_name}.mp4')\n",
        "final_video.write_videofile(f'/content/{uploaded_name}.mp4')\n",
        "\n",
        "# Download\n",
        "files.download(f'/content/{uploaded_name}.mp4')"
      ],
      "execution_count": null,
      "outputs": []
    }
  ]
}